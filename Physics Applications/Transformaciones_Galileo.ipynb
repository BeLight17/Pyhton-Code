{
 "cells": [
  {
   "cell_type": "code",
   "execution_count": 1,
   "metadata": {},
   "outputs": [],
   "source": [
    "import sympy as sp"
   ]
  },
  {
   "cell_type": "code",
   "execution_count": 12,
   "metadata": {},
   "outputs": [],
   "source": [
    "# Elementos de la matriz de transformaciones de Galileo\n",
    "R11, R12, R13 = sp.symbols('R_1^1,R_1^2,R_1^3')\n",
    "R21, R22, R23 = sp.symbols('R_2^1,R_2^2,R_2^3')\n",
    "R31, R32, R33= sp.symbols('R_3^1,R_3^2,R_3^3')\n",
    "v1,v2,v3 = sp.symbols('v_1,v_2,v_3')\n",
    "l1,l2,l3 = sp.symbols('l_1,l_2,l_3')\n",
    "t0 = sp.symbols('t_0')"
   ]
  },
  {
   "cell_type": "code",
   "execution_count": 16,
   "metadata": {},
   "outputs": [
    {
     "data": {
      "text/latex": [
       "$\\displaystyle \\left[\\begin{matrix}1 & 0 & 0 & 0 & - t_{0}\\\\0 & 1 & 0 & 0 & - l_{1}\\\\0 & 0 & 1 & 0 & - l_{2}\\\\0 & 0 & 0 & 1 & - l_{3}\\\\0 & 0 & 0 & 0 & 1\\end{matrix}\\right]$"
      ],
      "text/plain": [
       "Matrix([\n",
       "[1, 0, 0, 0, -t_0],\n",
       "[0, 1, 0, 0, -l_1],\n",
       "[0, 0, 1, 0, -l_2],\n",
       "[0, 0, 0, 1, -l_3],\n",
       "[0, 0, 0, 0,    1]])"
      ]
     },
     "execution_count": 16,
     "metadata": {},
     "output_type": "execute_result"
    }
   ],
   "source": [
    "# Traslación\n",
    "T = sp.Matrix([[1,0,0,0,-t0],\n",
    "               [0,1,0,0,-l1],\n",
    "               [0,0,1,0,-l2],\n",
    "               [0,0,0,1,-l3],\n",
    "               [0,0,0,0,1]])\n",
    "T"
   ]
  },
  {
   "cell_type": "code",
   "execution_count": 13,
   "metadata": {},
   "outputs": [
    {
     "data": {
      "text/latex": [
       "$\\displaystyle \\left[\\begin{matrix}1 & 0 & 0 & 0 & 0\\\\0 & R^{1}_{1} & R^{2}_{1} & R^{3}_{1} & 0\\\\0 & R^{1}_{2} & R^{2}_{2} & R^{3}_{2} & 0\\\\0 & R^{1}_{3} & R^{2}_{3} & R^{3}_{3} & 0\\\\0 & 0 & 0 & 0 & 1\\end{matrix}\\right]$"
      ],
      "text/plain": [
       "Matrix([\n",
       "[1,     0,     0,     0, 0],\n",
       "[0, R_1^1, R_1^2, R_1^3, 0],\n",
       "[0, R_2^1, R_2^2, R_2^3, 0],\n",
       "[0, R_3^1, R_3^2, R_3^3, 0],\n",
       "[0,     0,     0,     0, 1]])"
      ]
     },
     "execution_count": 13,
     "metadata": {},
     "output_type": "execute_result"
    }
   ],
   "source": [
    "# Rotación\n",
    "R = sp.Matrix([[1,0,0,0,0],\n",
    "               [0,R11,R12,R13,0],\n",
    "               [0,R21,R22,R23,0],\n",
    "               [0,R31,R32,R33,0],\n",
    "               [0,0,0,0,1]])\n",
    "R"
   ]
  },
  {
   "cell_type": "code",
   "execution_count": 15,
   "metadata": {},
   "outputs": [
    {
     "data": {
      "text/latex": [
       "$\\displaystyle \\left[\\begin{matrix}1 & 0 & 0 & 0 & 0\\\\- v_{1} & 1 & 0 & 0 & 0\\\\- v_{2} & 0 & 1 & 0 & 0\\\\- v_{3} & 0 & 0 & 1 & 0\\\\0 & 0 & 0 & 0 & 1\\end{matrix}\\right]$"
      ],
      "text/plain": [
       "Matrix([\n",
       "[   1, 0, 0, 0, 0],\n",
       "[-v_1, 1, 0, 0, 0],\n",
       "[-v_2, 0, 1, 0, 0],\n",
       "[-v_3, 0, 0, 1, 0],\n",
       "[   0, 0, 0, 0, 1]])"
      ]
     },
     "execution_count": 15,
     "metadata": {},
     "output_type": "execute_result"
    }
   ],
   "source": [
    "# Boost\n",
    "B = sp.Matrix([[1,0,0,0,0],\n",
    "               [-v1,1,0,0,0],\n",
    "               [-v2,0,1,0,0],\n",
    "               [-v3,0,0,1,0],\n",
    "               [0,0,0,0,1]])\n",
    "B"
   ]
  },
  {
   "cell_type": "code",
   "execution_count": 17,
   "metadata": {},
   "outputs": [
    {
     "data": {
      "text/latex": [
       "$\\displaystyle \\left[\\begin{matrix}1 & 0 & 0 & 0 & 0\\\\- R^{1}_{1} v_{1} - R^{2}_{1} v_{2} - R^{3}_{1} v_{3} & R^{1}_{1} & R^{2}_{1} & R^{3}_{1} & 0\\\\- R^{1}_{2} v_{1} - R^{2}_{2} v_{2} - R^{3}_{2} v_{3} & R^{1}_{2} & R^{2}_{2} & R^{3}_{2} & 0\\\\- R^{1}_{3} v_{1} - R^{2}_{3} v_{2} - R^{3}_{3} v_{3} & R^{1}_{3} & R^{2}_{3} & R^{3}_{3} & 0\\\\0 & 0 & 0 & 0 & 1\\end{matrix}\\right]$"
      ],
      "text/plain": [
       "Matrix([\n",
       "[                                 1,     0,     0,     0, 0],\n",
       "[-R_1^1*v_1 - R_1^2*v_2 - R_1^3*v_3, R_1^1, R_1^2, R_1^3, 0],\n",
       "[-R_2^1*v_1 - R_2^2*v_2 - R_2^3*v_3, R_2^1, R_2^2, R_2^3, 0],\n",
       "[-R_3^1*v_1 - R_3^2*v_2 - R_3^3*v_3, R_3^1, R_3^2, R_3^3, 0],\n",
       "[                                 0,     0,     0,     0, 1]])"
      ]
     },
     "execution_count": 17,
     "metadata": {},
     "output_type": "execute_result"
    }
   ],
   "source": [
    "R*B"
   ]
  },
  {
   "cell_type": "code",
   "execution_count": 18,
   "metadata": {},
   "outputs": [
    {
     "data": {
      "text/latex": [
       "$\\displaystyle \\left[\\begin{matrix}1 & 0 & 0 & 0 & 0\\\\- v_{1} & R^{1}_{1} & R^{2}_{1} & R^{3}_{1} & 0\\\\- v_{2} & R^{1}_{2} & R^{2}_{2} & R^{3}_{2} & 0\\\\- v_{3} & R^{1}_{3} & R^{2}_{3} & R^{3}_{3} & 0\\\\0 & 0 & 0 & 0 & 1\\end{matrix}\\right]$"
      ],
      "text/plain": [
       "Matrix([\n",
       "[   1,     0,     0,     0, 0],\n",
       "[-v_1, R_1^1, R_1^2, R_1^3, 0],\n",
       "[-v_2, R_2^1, R_2^2, R_2^3, 0],\n",
       "[-v_3, R_3^1, R_3^2, R_3^3, 0],\n",
       "[   0,     0,     0,     0, 1]])"
      ]
     },
     "execution_count": 18,
     "metadata": {},
     "output_type": "execute_result"
    }
   ],
   "source": [
    "B*R"
   ]
  },
  {
   "cell_type": "code",
   "execution_count": 19,
   "metadata": {},
   "outputs": [
    {
     "data": {
      "text/latex": [
       "$\\displaystyle \\left[\\begin{matrix}1 & 0 & 0 & 0 & - t_{0}\\\\0 & R^{1}_{1} & R^{2}_{1} & R^{3}_{1} & - R^{1}_{1} l_{1} - R^{2}_{1} l_{2} - R^{3}_{1} l_{3}\\\\0 & R^{1}_{2} & R^{2}_{2} & R^{3}_{2} & - R^{1}_{2} l_{1} - R^{2}_{2} l_{2} - R^{3}_{2} l_{3}\\\\0 & R^{1}_{3} & R^{2}_{3} & R^{3}_{3} & - R^{1}_{3} l_{1} - R^{2}_{3} l_{2} - R^{3}_{3} l_{3}\\\\0 & 0 & 0 & 0 & 1\\end{matrix}\\right]$"
      ],
      "text/plain": [
       "Matrix([\n",
       "[1,     0,     0,     0,                               -t_0],\n",
       "[0, R_1^1, R_1^2, R_1^3, -R_1^1*l_1 - R_1^2*l_2 - R_1^3*l_3],\n",
       "[0, R_2^1, R_2^2, R_2^3, -R_2^1*l_1 - R_2^2*l_2 - R_2^3*l_3],\n",
       "[0, R_3^1, R_3^2, R_3^3, -R_3^1*l_1 - R_3^2*l_2 - R_3^3*l_3],\n",
       "[0,     0,     0,     0,                                  1]])"
      ]
     },
     "execution_count": 19,
     "metadata": {},
     "output_type": "execute_result"
    }
   ],
   "source": [
    "R*T"
   ]
  },
  {
   "cell_type": "code",
   "execution_count": 20,
   "metadata": {},
   "outputs": [
    {
     "data": {
      "text/latex": [
       "$\\displaystyle \\left[\\begin{matrix}1 & 0 & 0 & 0 & - t_{0}\\\\0 & R^{1}_{1} & R^{2}_{1} & R^{3}_{1} & - l_{1}\\\\0 & R^{1}_{2} & R^{2}_{2} & R^{3}_{2} & - l_{2}\\\\0 & R^{1}_{3} & R^{2}_{3} & R^{3}_{3} & - l_{3}\\\\0 & 0 & 0 & 0 & 1\\end{matrix}\\right]$"
      ],
      "text/plain": [
       "Matrix([\n",
       "[1,     0,     0,     0, -t_0],\n",
       "[0, R_1^1, R_1^2, R_1^3, -l_1],\n",
       "[0, R_2^1, R_2^2, R_2^3, -l_2],\n",
       "[0, R_3^1, R_3^2, R_3^3, -l_3],\n",
       "[0,     0,     0,     0,    1]])"
      ]
     },
     "execution_count": 20,
     "metadata": {},
     "output_type": "execute_result"
    }
   ],
   "source": [
    "T*R"
   ]
  },
  {
   "cell_type": "code",
   "execution_count": 21,
   "metadata": {},
   "outputs": [
    {
     "data": {
      "text/latex": [
       "$\\displaystyle \\left[\\begin{matrix}1 & 0 & 0 & 0 & 0\\\\- u_{1} & 1 & 0 & 0 & 0\\\\- u_{2} & 0 & 1 & 0 & 0\\\\- u_{3} & 0 & 0 & 1 & 0\\\\0 & 0 & 0 & 0 & 1\\end{matrix}\\right]$"
      ],
      "text/plain": [
       "Matrix([\n",
       "[   1, 0, 0, 0, 0],\n",
       "[-u_1, 1, 0, 0, 0],\n",
       "[-u_2, 0, 1, 0, 0],\n",
       "[-u_3, 0, 0, 1, 0],\n",
       "[   0, 0, 0, 0, 1]])"
      ]
     },
     "execution_count": 21,
     "metadata": {},
     "output_type": "execute_result"
    }
   ],
   "source": [
    "# Otro Boost\n",
    "u1,u2,u3 = sp.symbols('u_1,u_2,u_3')\n",
    "B1 = sp.Matrix([[1,0,0,0,0],\n",
    "               [-u1,1,0,0,0],\n",
    "               [-u2,0,1,0,0],\n",
    "               [-u3,0,0,1,0],\n",
    "               [0,0,0,0,1]])\n",
    "B1"
   ]
  },
  {
   "cell_type": "code",
   "execution_count": 23,
   "metadata": {},
   "outputs": [
    {
     "data": {
      "text/latex": [
       "$\\displaystyle \\left[\\begin{matrix}1 & 0 & 0 & 0 & 0\\\\- u_{1} - v_{1} & 1 & 0 & 0 & 0\\\\- u_{2} - v_{2} & 0 & 1 & 0 & 0\\\\- u_{3} - v_{3} & 0 & 0 & 1 & 0\\\\0 & 0 & 0 & 0 & 1\\end{matrix}\\right]$"
      ],
      "text/plain": [
       "Matrix([\n",
       "[         1, 0, 0, 0, 0],\n",
       "[-u_1 - v_1, 1, 0, 0, 0],\n",
       "[-u_2 - v_2, 0, 1, 0, 0],\n",
       "[-u_3 - v_3, 0, 0, 1, 0],\n",
       "[         0, 0, 0, 0, 1]])"
      ]
     },
     "execution_count": 23,
     "metadata": {},
     "output_type": "execute_result"
    }
   ],
   "source": [
    "B*B1 "
   ]
  },
  {
   "cell_type": "code",
   "execution_count": 24,
   "metadata": {},
   "outputs": [
    {
     "data": {
      "text/latex": [
       "$\\displaystyle \\left[\\begin{matrix}1 & 0 & 0 & 0 & 0\\\\- u_{1} - v_{1} & 1 & 0 & 0 & 0\\\\- u_{2} - v_{2} & 0 & 1 & 0 & 0\\\\- u_{3} - v_{3} & 0 & 0 & 1 & 0\\\\0 & 0 & 0 & 0 & 1\\end{matrix}\\right]$"
      ],
      "text/plain": [
       "Matrix([\n",
       "[         1, 0, 0, 0, 0],\n",
       "[-u_1 - v_1, 1, 0, 0, 0],\n",
       "[-u_2 - v_2, 0, 1, 0, 0],\n",
       "[-u_3 - v_3, 0, 0, 1, 0],\n",
       "[         0, 0, 0, 0, 1]])"
      ]
     },
     "execution_count": 24,
     "metadata": {},
     "output_type": "execute_result"
    }
   ],
   "source": [
    "B1*B"
   ]
  },
  {
   "cell_type": "code",
   "execution_count": null,
   "metadata": {},
   "outputs": [],
   "source": []
  }
 ],
 "metadata": {
  "kernelspec": {
   "display_name": "Python 3",
   "language": "python",
   "name": "python3"
  },
  "language_info": {
   "codemirror_mode": {
    "name": "ipython",
    "version": 3
   },
   "file_extension": ".py",
   "mimetype": "text/x-python",
   "name": "python",
   "nbconvert_exporter": "python",
   "pygments_lexer": "ipython3",
   "version": "3.7.4"
  }
 },
 "nbformat": 4,
 "nbformat_minor": 2
}
