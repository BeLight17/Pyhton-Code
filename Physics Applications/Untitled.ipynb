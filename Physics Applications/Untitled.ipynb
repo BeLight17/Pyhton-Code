{
 "cells": [
  {
   "cell_type": "code",
   "execution_count": 2,
   "metadata": {},
   "outputs": [],
   "source": [
    "import sympy as sp"
   ]
  },
  {
   "cell_type": "code",
   "execution_count": 24,
   "metadata": {},
   "outputs": [],
   "source": [
    "#Cantidades simbólicas\n",
    "r = sp.symbols('r') \n",
    "R = sp.symbols('R') \n",
    "rho = sp.symbols('rho') \n",
    "phi = sp.symbols('phi')\n",
    "#Función, Function('N': nombre)(t: variable)\n",
    "G = sp.Function('G')(r,rho) \n",
    "mod1 = sp.Function('M')(r,rho) \n",
    "mod2 = sp.Function('N')(r,rho) "
   ]
  },
  {
   "cell_type": "code",
   "execution_count": 36,
   "metadata": {},
   "outputs": [
    {
     "data": {
      "text/latex": [
       "$\\displaystyle \\frac{\\rho \\sqrt{\\frac{R^{4}}{\\rho^{2}} - \\frac{2 R^{2} r \\cos{\\left(\\phi \\right)}}{\\rho} + r^{2}}}{R}$"
      ],
      "text/plain": [
       "rho*sqrt(R**4/rho**2 - 2*R**2*r*cos(phi)/rho + r**2)/R"
      ]
     },
     "execution_count": 36,
     "metadata": {},
     "output_type": "execute_result"
    }
   ],
   "source": [
    "mod1 = sp.sqrt(r**2+rho**2-2*r*rho*sp.cos(phi))\n",
    "mod2 = rho/R*sp.sqrt(r**2+R**4/rho**2-2*r*R**2/rho*sp.cos(phi))\n",
    "mod2"
   ]
  },
  {
   "cell_type": "code",
   "execution_count": 37,
   "metadata": {},
   "outputs": [
    {
     "data": {
      "text/latex": [
       "$\\displaystyle - \\frac{R}{\\rho \\sqrt{\\frac{R^{4}}{\\rho^{2}} - \\frac{2 R^{2} r \\cos{\\left(\\phi \\right)}}{\\rho} + r^{2}}} + \\frac{1}{\\sqrt{r^{2} - 2 r \\rho \\cos{\\left(\\phi \\right)} + \\rho^{2}}}$"
      ],
      "text/plain": [
       "-R/(rho*sqrt(R**4/rho**2 - 2*R**2*r*cos(phi)/rho + r**2)) + 1/sqrt(r**2 - 2*r*rho*cos(phi) + rho**2)"
      ]
     },
     "execution_count": 37,
     "metadata": {},
     "output_type": "execute_result"
    }
   ],
   "source": [
    "G = 1/mod1 - 1/mod2\n",
    "G"
   ]
  },
  {
   "cell_type": "code",
   "execution_count": 38,
   "metadata": {},
   "outputs": [
    {
     "data": {
      "text/latex": [
       "$\\displaystyle - \\frac{R \\left(\\frac{R^{4}}{\\rho^{3}} - \\frac{R^{2} r \\cos{\\left(\\phi \\right)}}{\\rho^{2}}\\right)}{\\rho \\left(\\frac{R^{4}}{\\rho^{2}} - \\frac{2 R^{2} r \\cos{\\left(\\phi \\right)}}{\\rho} + r^{2}\\right)^{\\frac{3}{2}}} + \\frac{R}{\\rho^{2} \\sqrt{\\frac{R^{4}}{\\rho^{2}} - \\frac{2 R^{2} r \\cos{\\left(\\phi \\right)}}{\\rho} + r^{2}}} + \\frac{r \\cos{\\left(\\phi \\right)} - \\rho}{\\left(r^{2} - 2 r \\rho \\cos{\\left(\\phi \\right)} + \\rho^{2}\\right)^{\\frac{3}{2}}}$"
      ],
      "text/plain": [
       "-R*(R**4/rho**3 - R**2*r*cos(phi)/rho**2)/(rho*(R**4/rho**2 - 2*R**2*r*cos(phi)/rho + r**2)**(3/2)) + R/(rho**2*sqrt(R**4/rho**2 - 2*R**2*r*cos(phi)/rho + r**2)) + (r*cos(phi) - rho)/(r**2 - 2*r*rho*cos(phi) + rho**2)**(3/2)"
      ]
     },
     "execution_count": 38,
     "metadata": {},
     "output_type": "execute_result"
    }
   ],
   "source": [
    "G.diff(rho,1)"
   ]
  },
  {
   "cell_type": "code",
   "execution_count": 39,
   "metadata": {},
   "outputs": [
    {
     "data": {
      "text/latex": [
       "$\\displaystyle \\frac{2 R x \\cos{\\left(\\phi \\right)}}{\\sqrt{R^{2} - 2 R x \\cos{\\left(\\phi \\right)} + x^{2}}}$"
      ],
      "text/plain": [
       "2*R*x*cos(phi)/sqrt(R**2 - 2*R*x*cos(phi) + x**2)"
      ]
     },
     "execution_count": 39,
     "metadata": {},
     "output_type": "execute_result"
    }
   ],
   "source": [
    "x = sp.symbols('x')\n",
    "\n",
    "integ = 2*x*R*sp.cos(phi)/sp.sqrt(x**2+R**2-2*x*R*sp.cos(phi))\n",
    "integ"
   ]
  },
  {
   "cell_type": "code",
   "execution_count": 42,
   "metadata": {},
   "outputs": [
    {
     "data": {
      "text/latex": [
       "$\\displaystyle 2 R x \\int\\limits_{0}^{2 \\pi} \\frac{\\cos{\\left(\\phi \\right)}}{\\sqrt{R^{2} - 2 R x \\cos{\\left(\\phi \\right)} + x^{2}}}\\, d\\phi$"
      ],
      "text/plain": [
       "2*R*x*Integral(cos(phi)/sqrt(R**2 - 2*R*x*cos(phi) + x**2), (phi, 0, 2*pi))"
      ]
     },
     "execution_count": 42,
     "metadata": {},
     "output_type": "execute_result"
    }
   ],
   "source": [
    "sp.integrate(integ, (phi,0,2*sp.pi))"
   ]
  },
  {
   "cell_type": "code",
   "execution_count": null,
   "metadata": {},
   "outputs": [],
   "source": []
  }
 ],
 "metadata": {
  "kernelspec": {
   "display_name": "Python 3",
   "language": "python",
   "name": "python3"
  },
  "language_info": {
   "codemirror_mode": {
    "name": "ipython",
    "version": 3
   },
   "file_extension": ".py",
   "mimetype": "text/x-python",
   "name": "python",
   "nbconvert_exporter": "python",
   "pygments_lexer": "ipython3",
   "version": "3.7.4"
  }
 },
 "nbformat": 4,
 "nbformat_minor": 2
}
