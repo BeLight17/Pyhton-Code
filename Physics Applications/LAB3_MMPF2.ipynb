{
 "cells": [
  {
   "cell_type": "markdown",
   "metadata": {},
   "source": [
    "# Potenciales"
   ]
  },
  {
   "cell_type": "code",
   "execution_count": 1,
   "metadata": {},
   "outputs": [],
   "source": [
    "import numpy as np\n",
    "import matplotlib.pyplot as plt\n",
    "import matplotlib.colors as colors"
   ]
  },
  {
   "cell_type": "code",
   "execution_count": 23,
   "metadata": {},
   "outputs": [],
   "source": [
    "def plot_pot(ax,XX,YY,U,x0,y0,cmap,title):\n",
    "    surf = ax.contourf(xx, yy, u, cmap = cmap)\n",
    "    ax.set_xlabel(r'$x \\ axis$',fontsize=10,labelpad=1)\n",
    "    ax.set_ylabel(r'$y \\ axis$',fontsize=10,labelpad=1)\n",
    "    plt.Circle((x0,y0), 10, color = 'k')\n",
    "    ax.tick_params(labelsize=10.0)\n",
    "    plt.axis('scaled')\n",
    "    plt.colorbar(surf,shrink=0.5)\n",
    "    plt.savefig(title)\n",
    "    plt.show()"
   ]
  },
  {
   "cell_type": "code",
   "execution_count": 16,
   "metadata": {},
   "outputs": [],
   "source": [
    "def dist(x,y,x0,y0):\n",
    "    return np.sqrt((x-x0)**2+(y-y0)**2)\n",
    "\n",
    "def pot_ln(x,y,x0,y0):\n",
    "    return np.log(dist(x,y,x0,y0))"
   ]
  },
  {
   "cell_type": "code",
   "execution_count": 17,
   "metadata": {},
   "outputs": [],
   "source": [
    "N = 1000\n",
    "r0 = np.array([2,2])\n",
    "r1 = np.array([2,-2])\n",
    "r2 = np.array([-2,-2])\n",
    "r3 = np.array([-2,2])\n",
    "r = np.linspace(0,5,N)"
   ]
  },
  {
   "cell_type": "code",
   "execution_count": 18,
   "metadata": {},
   "outputs": [],
   "source": [
    "xx,yy = np.meshgrid(r,r)"
   ]
  },
  {
   "cell_type": "code",
   "execution_count": 25,
   "metadata": {},
   "outputs": [],
   "source": [
    "u1 = pot_ln(xx,yy,*r1)\n",
    "u2 = pot_ln(xx,yy,*r2)\n",
    "u3 = pot_ln(xx,yy,*r3)\n",
    "u0 = pot_ln(xx,yy,*r0)\n",
    "\n",
    "u=-u0"
   ]
  },
  {
   "cell_type": "code",
   "execution_count": 26,
   "metadata": {
    "scrolled": true
   },
   "outputs": [
    {
     "data": {
      "image/png": "[encoded data removed]",
      "text/plain": [
       "<Figure size 432x288 with 2 Axes>"
      ]
     },
     "metadata": {
      "needs_background": "light"
     },
     "output_type": "display_data"
    }
   ],
   "source": [
    "fig, ax = plt.subplots(1,1)\n",
    "\n",
    "plot_pot(ax,xx,yy,u,*r0,'RdPu','pot_hilo.pdf')"
   ]
  },
  {
   "cell_type": "code",
   "execution_count": null,
   "metadata": {},
   "outputs": [],
   "source": []
  }
 ],
 "metadata": {
  "kernelspec": {
   "display_name": "Python 3",
   "language": "python",
   "name": "python3"
  },
  "language_info": {
   "codemirror_mode": {
    "name": "ipython",
    "version": 3
   },
   "file_extension": ".py",
   "mimetype": "text/x-python",
   "name": "python",
   "nbconvert_exporter": "python",
   "pygments_lexer": "ipython3",
   "version": "3.7.4"
  }
 },
 "nbformat": 4,
 "nbformat_minor": 2
}
