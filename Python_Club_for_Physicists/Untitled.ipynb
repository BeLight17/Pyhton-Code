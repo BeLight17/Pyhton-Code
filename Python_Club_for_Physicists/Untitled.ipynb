{
 "cells": [
  {
   "cell_type": "code",
   "execution_count": 1,
   "metadata": {},
   "outputs": [],
   "source": [
    "import sympy as sp \n",
    "import numpy as np\n",
    "import matplotlib.pyplot as plt\n",
    "%matplotlib inline "
   ]
  },
  {
   "cell_type": "code",
   "execution_count": 6,
   "metadata": {},
   "outputs": [
    {
     "ename": "TypeError",
     "evalue": "cannot determine truth value of Relational",
     "output_type": "error",
     "traceback": [
      "\u001b[0;31m---------------------------------------------------------------------------\u001b[0m",
      "\u001b[0;31mTypeError\u001b[0m                                 Traceback (most recent call last)",
      "\u001b[0;32m<ipython-input-6-99d2c6a7200c>\u001b[0m in \u001b[0;36m<module>\u001b[0;34m\u001b[0m\n\u001b[1;32m     18\u001b[0m \u001b[0mCI\u001b[0m \u001b[0;34m=\u001b[0m \u001b[0;34m{\u001b[0m\u001b[0mx1_c\u001b[0m\u001b[0;34m.\u001b[0m\u001b[0msubs\u001b[0m\u001b[0;34m(\u001b[0m\u001b[0mt\u001b[0m\u001b[0;34m,\u001b[0m \u001b[0;36m0\u001b[0m\u001b[0;34m)\u001b[0m\u001b[0;34m:\u001b[0m \u001b[0mx10\u001b[0m\u001b[0;34m,\u001b[0m \u001b[0mx2_c\u001b[0m\u001b[0;34m.\u001b[0m\u001b[0msubs\u001b[0m\u001b[0;34m(\u001b[0m\u001b[0mt\u001b[0m\u001b[0;34m,\u001b[0m \u001b[0;36m0\u001b[0m\u001b[0;34m)\u001b[0m\u001b[0;34m:\u001b[0m \u001b[0mx20\u001b[0m\u001b[0;34m,\u001b[0m \u001b[0mv\u001b[0m\u001b[0;34m.\u001b[0m\u001b[0msubs\u001b[0m\u001b[0;34m(\u001b[0m\u001b[0mt\u001b[0m\u001b[0;34m,\u001b[0m \u001b[0;36m0\u001b[0m\u001b[0;34m)\u001b[0m\u001b[0;34m:\u001b[0m \u001b[0mv0\u001b[0m\u001b[0;34m,\u001b[0m \u001b[0mu\u001b[0m\u001b[0;34m.\u001b[0m\u001b[0msubs\u001b[0m\u001b[0;34m(\u001b[0m\u001b[0mt\u001b[0m\u001b[0;34m,\u001b[0m \u001b[0;36m0\u001b[0m\u001b[0;34m)\u001b[0m\u001b[0;34m:\u001b[0m \u001b[0mu0\u001b[0m\u001b[0;34m}\u001b[0m\u001b[0;34m\u001b[0m\u001b[0;34m\u001b[0m\u001b[0m\n\u001b[1;32m     19\u001b[0m \u001b[0;34m\u001b[0m\u001b[0m\n\u001b[0;32m---> 20\u001b[0;31m \u001b[0mx1_c\u001b[0m\u001b[0;34m,\u001b[0m \u001b[0mx0_c\u001b[0m\u001b[0;34m,\u001b[0m \u001b[0mv\u001b[0m\u001b[0;34m,\u001b[0m \u001b[0mu\u001b[0m \u001b[0;34m=\u001b[0m \u001b[0msp\u001b[0m\u001b[0;34m.\u001b[0m\u001b[0mdsolve\u001b[0m\u001b[0;34m(\u001b[0m\u001b[0meqs\u001b[0m\u001b[0;34m,\u001b[0m \u001b[0;34m[\u001b[0m\u001b[0mx1_c\u001b[0m\u001b[0;34m,\u001b[0m \u001b[0mx0_c\u001b[0m\u001b[0;34m,\u001b[0m \u001b[0mv\u001b[0m\u001b[0;34m,\u001b[0m \u001b[0mu\u001b[0m\u001b[0;34m]\u001b[0m\u001b[0;34m,\u001b[0m \u001b[0mics\u001b[0m \u001b[0;34m=\u001b[0m \u001b[0mCI\u001b[0m\u001b[0;34m)\u001b[0m\u001b[0;34m\u001b[0m\u001b[0;34m\u001b[0m\u001b[0m\n\u001b[0m\u001b[1;32m     21\u001b[0m \u001b[0;34m\u001b[0m\u001b[0m\n\u001b[1;32m     22\u001b[0m \u001b[0mx1_c\u001b[0m \u001b[0;34m=\u001b[0m \u001b[0mx1_c\u001b[0m\u001b[0;34m.\u001b[0m\u001b[0mrewrite\u001b[0m\u001b[0;34m(\u001b[0m\u001b[0msp\u001b[0m\u001b[0;34m.\u001b[0m\u001b[0mcos\u001b[0m\u001b[0;34m)\u001b[0m\u001b[0;34m.\u001b[0m\u001b[0msimplify\u001b[0m\u001b[0;34m(\u001b[0m\u001b[0;34m)\u001b[0m\u001b[0;34m\u001b[0m\u001b[0;34m\u001b[0m\u001b[0m\n",
      "\u001b[0;32m~/anaconda3/lib/python3.7/site-packages/sympy/solvers/ode.py\u001b[0m in \u001b[0;36mdsolve\u001b[0;34m(eq, func, hint, simplify, ics, xi, eta, x0, n, **kwargs)\u001b[0m\n\u001b[1;32m    594\u001b[0m     \"\"\"\n\u001b[1;32m    595\u001b[0m     \u001b[0;32mif\u001b[0m \u001b[0miterable\u001b[0m\u001b[0;34m(\u001b[0m\u001b[0meq\u001b[0m\u001b[0;34m)\u001b[0m\u001b[0;34m:\u001b[0m\u001b[0;34m\u001b[0m\u001b[0;34m\u001b[0m\u001b[0m\n\u001b[0;32m--> 596\u001b[0;31m         \u001b[0mmatch\u001b[0m \u001b[0;34m=\u001b[0m \u001b[0mclassify_sysode\u001b[0m\u001b[0;34m(\u001b[0m\u001b[0meq\u001b[0m\u001b[0;34m,\u001b[0m \u001b[0mfunc\u001b[0m\u001b[0;34m)\u001b[0m\u001b[0;34m\u001b[0m\u001b[0;34m\u001b[0m\u001b[0m\n\u001b[0m\u001b[1;32m    597\u001b[0m         \u001b[0meq\u001b[0m \u001b[0;34m=\u001b[0m \u001b[0mmatch\u001b[0m\u001b[0;34m[\u001b[0m\u001b[0;34m'eq'\u001b[0m\u001b[0;34m]\u001b[0m\u001b[0;34m\u001b[0m\u001b[0;34m\u001b[0m\u001b[0m\n\u001b[1;32m    598\u001b[0m         \u001b[0morder\u001b[0m \u001b[0;34m=\u001b[0m \u001b[0mmatch\u001b[0m\u001b[0;34m[\u001b[0m\u001b[0;34m'order'\u001b[0m\u001b[0;34m]\u001b[0m\u001b[0;34m\u001b[0m\u001b[0;34m\u001b[0m\u001b[0m\n",
      "\u001b[0;32m~/anaconda3/lib/python3.7/site-packages/sympy/solvers/ode.py\u001b[0m in \u001b[0;36mclassify_sysode\u001b[0;34m(eq, funcs, **kwargs)\u001b[0m\n\u001b[1;32m   1574\u001b[0m                     \"functions of one variable only, not %s\" % func)\n\u001b[1;32m   1575\u001b[0m         \u001b[0;32melse\u001b[0m\u001b[0;34m:\u001b[0m\u001b[0;34m\u001b[0m\u001b[0;34m\u001b[0m\u001b[0m\n\u001b[0;32m-> 1576\u001b[0;31m             \u001b[0;32mif\u001b[0m \u001b[0mfunc\u001b[0m \u001b[0;32mand\u001b[0m \u001b[0mlen\u001b[0m\u001b[0;34m(\u001b[0m\u001b[0mfunc\u001b[0m\u001b[0;34m.\u001b[0m\u001b[0margs\u001b[0m\u001b[0;34m)\u001b[0m \u001b[0;34m!=\u001b[0m \u001b[0;36m1\u001b[0m\u001b[0;34m:\u001b[0m\u001b[0;34m\u001b[0m\u001b[0;34m\u001b[0m\u001b[0m\n\u001b[0m\u001b[1;32m   1577\u001b[0m                 raise ValueError(\"dsolve() and classify_sysode() work with \"\n\u001b[1;32m   1578\u001b[0m                 \"functions of one variable only, not %s\" % func)\n",
      "\u001b[0;32m~/anaconda3/lib/python3.7/site-packages/sympy/core/relational.py\u001b[0m in \u001b[0;36m__nonzero__\u001b[0;34m(self)\u001b[0m\n\u001b[1;32m    302\u001b[0m \u001b[0;34m\u001b[0m\u001b[0m\n\u001b[1;32m    303\u001b[0m     \u001b[0;32mdef\u001b[0m \u001b[0m__nonzero__\u001b[0m\u001b[0;34m(\u001b[0m\u001b[0mself\u001b[0m\u001b[0;34m)\u001b[0m\u001b[0;34m:\u001b[0m\u001b[0;34m\u001b[0m\u001b[0;34m\u001b[0m\u001b[0m\n\u001b[0;32m--> 304\u001b[0;31m         \u001b[0;32mraise\u001b[0m \u001b[0mTypeError\u001b[0m\u001b[0;34m(\u001b[0m\u001b[0;34m\"cannot determine truth value of Relational\"\u001b[0m\u001b[0;34m)\u001b[0m\u001b[0;34m\u001b[0m\u001b[0;34m\u001b[0m\u001b[0m\n\u001b[0m\u001b[1;32m    305\u001b[0m \u001b[0;34m\u001b[0m\u001b[0m\n\u001b[1;32m    306\u001b[0m     \u001b[0m__bool__\u001b[0m \u001b[0;34m=\u001b[0m \u001b[0m__nonzero__\u001b[0m\u001b[0;34m\u001b[0m\u001b[0;34m\u001b[0m\u001b[0m\n",
      "\u001b[0;31mTypeError\u001b[0m: cannot determine truth value of Relational"
     ]
    }
   ],
   "source": [
    "t = sp.symbols('t',real = True)\n",
    "\n",
    "x1_c = sp.Function('x_1', real = True)(t)\n",
    "x0_c = sp.Function('x_0', real = True)(t)\n",
    "v = sp.Function('v', real = True)(t)\n",
    "u = sp.Function('u', real = True)(t)\n",
    "\n",
    "m, g, k, l = sp.symbols('m, g, k, l', positive = True)\n",
    "\n",
    "x10, x00, v0, u0 = sp.symbols('x_1^{(0)}, x_2^{(0)}, v_0, u_0')\n",
    "\n",
    "eq1 = sp.Eq(v, sp.diff(x1_c, t))\n",
    "eq2 = sp.Eq(u, sp.diff(x0_c, t))\n",
    "eq3 = sp.Eq(m*sp.diff(v, t) - m*(g/l)*x1_c - k*(x1_c - x0_c), 0)\n",
    "eq4 = sp.Eq(m*sp.diff(u, t) - m*(g/l)*x0_c - k*(x0_c - x1_c), 0)\n",
    "\n",
    "eqs = [eq1, eq2, eq3, eq4]\n",
    "\n",
    "CI = {x1_c.subs(t, 0): x10, x0_c.subs(t, 0): x00, v.subs(t, 0): v0, u.subs(t, 0): u0}\n",
    "\n",
    "x1_c, x0_c, v, u = sp.dsolve(eqs, [x1_c, x0_c, v, u], ics = CI)\n",
    "\n",
    "x1_c = x1_c.rewrite(sp.cos).simplify()\n",
    "x0_c = x0_c.rewrite(sp.cos).simplify()\n",
    "\n",
    "\n"
   ]
  },
  {
   "cell_type": "code",
   "execution_count": 4,
   "metadata": {},
   "outputs": [
    {
     "data": {
      "text/latex": [
       "$\\displaystyle \\operatorname{x_{1}}{\\left(t \\right)} = \\frac{\\sqrt{g} \\sqrt{m} \\left(x_1^{(0)} + x_2^{(0)}\\right) \\sqrt{g m + 2 k l} \\cos{\\left(\\frac{\\sqrt{g} \\sqrt{m} t}{\\sqrt{l}} \\right)} + \\sqrt{g} \\sqrt{m} \\left(\\sqrt{l} u_{0} \\sin{\\left(\\frac{t \\sqrt{g m + 2 k l}}{\\sqrt{l}} \\right)} - \\sqrt{l} v_{0} \\sin{\\left(\\frac{t \\sqrt{g m + 2 k l}}{\\sqrt{l}} \\right)} + x_1^{(0)} \\sqrt{g m + 2 k l} \\cos{\\left(\\frac{t \\sqrt{g m + 2 k l}}{\\sqrt{l}} \\right)} - x_2^{(0)} \\sqrt{g m + 2 k l} \\cos{\\left(\\frac{t \\sqrt{g m + 2 k l}}{\\sqrt{l}} \\right)}\\right) - \\sqrt{l} \\left(u_{0} + v_{0}\\right) \\sqrt{g m + 2 k l} \\sin{\\left(\\frac{\\sqrt{g} \\sqrt{m} t}{\\sqrt{l}} \\right)}}{2 \\sqrt{g} \\sqrt{m} \\sqrt{g m + 2 k l}}$"
      ],
      "text/plain": [
       "Eq(x_1(t), (sqrt(g)*sqrt(m)*(x_1^{(0)} + x_2^{(0)})*sqrt(g*m + 2*k*l)*cos(sqrt(g)*sqrt(m)*t/sqrt(l)) + sqrt(g)*sqrt(m)*(sqrt(l)*u_0*sin(t*sqrt(g*m + 2*k*l)/sqrt(l)) - sqrt(l)*v_0*sin(t*sqrt(g*m + 2*k*l)/sqrt(l)) + x_1^{(0)}*sqrt(g*m + 2*k*l)*cos(t*sqrt(g*m + 2*k*l)/sqrt(l)) - x_2^{(0)}*sqrt(g*m + 2*k*l)*cos(t*sqrt(g*m + 2*k*l)/sqrt(l))) - sqrt(l)*(u_0 + v_0)*sqrt(g*m + 2*k*l)*sin(sqrt(g)*sqrt(m)*t/sqrt(l)))/(2*sqrt(g)*sqrt(m)*sqrt(g*m + 2*k*l)))"
      ]
     },
     "execution_count": 4,
     "metadata": {},
     "output_type": "execute_result"
    }
   ],
   "source": []
  },
  {
   "cell_type": "code",
   "execution_count": null,
   "metadata": {},
   "outputs": [],
   "source": []
  }
 ],
 "metadata": {
  "kernelspec": {
   "display_name": "Python 3",
   "language": "python",
   "name": "python3"
  },
  "language_info": {
   "codemirror_mode": {
    "name": "ipython",
    "version": 3
   },
   "file_extension": ".py",
   "mimetype": "text/x-python",
   "name": "python",
   "nbconvert_exporter": "python",
   "pygments_lexer": "ipython3",
   "version": "3.7.4"
  }
 },
 "nbformat": 4,
 "nbformat_minor": 4
}
