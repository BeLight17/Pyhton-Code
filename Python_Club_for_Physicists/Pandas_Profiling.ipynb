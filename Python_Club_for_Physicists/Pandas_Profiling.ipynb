{
 "cells": [
  {
   "cell_type": "code",
   "execution_count": 1,
   "metadata": {},
   "outputs": [
    {
     "name": "stdout",
     "output_type": "stream",
     "text": [
      "Collecting pandas.profiling\n",
      "  Downloading pandas-profiling-2.4.0.tar.gz (150 kB)\n",
      "\u001b[K     |████████████████████████████████| 150 kB 336 kB/s eta 0:00:01\n",
      "\u001b[?25hRequirement already satisfied: pandas>=0.19 in /home/alejandra/anaconda3/lib/python3.7/site-packages (from pandas.profiling) (0.25.1)\n",
      "Requirement already satisfied: matplotlib>=1.4 in /home/alejandra/anaconda3/lib/python3.7/site-packages (from pandas.profiling) (3.1.1)\n",
      "Collecting confuse>=1.0.0\n",
      "  Downloading confuse-1.0.0.tar.gz (32 kB)\n",
      "Requirement already satisfied: jinja2>=2.8 in /home/alejandra/anaconda3/lib/python3.7/site-packages (from pandas.profiling) (2.10.3)\n",
      "Collecting htmlmin>=0.1.12\n",
      "  Downloading htmlmin-0.1.12.tar.gz (19 kB)\n",
      "Collecting missingno>=0.4.2\n",
      "  Downloading missingno-0.4.2-py3-none-any.whl (9.7 kB)\n",
      "Collecting phik>=0.9.8\n",
      "  Downloading phik-0.9.8-py3-none-any.whl (606 kB)\n",
      "\u001b[K     |████████████████████████████████| 606 kB 3.4 MB/s eta 0:00:01\n",
      "\u001b[?25hRequirement already satisfied: astropy in /home/alejandra/anaconda3/lib/python3.7/site-packages (from pandas.profiling) (3.2.2)\n",
      "Requirement already satisfied: python-dateutil>=2.6.1 in /home/alejandra/anaconda3/lib/python3.7/site-packages (from pandas>=0.19->pandas.profiling) (2.8.0)\n",
      "Requirement already satisfied: pytz>=2017.2 in /home/alejandra/anaconda3/lib/python3.7/site-packages (from pandas>=0.19->pandas.profiling) (2019.3)\n",
      "Requirement already satisfied: numpy>=1.13.3 in /home/alejandra/.local/lib/python3.7/site-packages (from pandas>=0.19->pandas.profiling) (1.18.1)\n",
      "Requirement already satisfied: cycler>=0.10 in /home/alejandra/anaconda3/lib/python3.7/site-packages (from matplotlib>=1.4->pandas.profiling) (0.10.0)\n",
      "Requirement already satisfied: kiwisolver>=1.0.1 in /home/alejandra/anaconda3/lib/python3.7/site-packages (from matplotlib>=1.4->pandas.profiling) (1.1.0)\n",
      "Requirement already satisfied: pyparsing!=2.0.4,!=2.1.2,!=2.1.6,>=2.0.1 in /home/alejandra/anaconda3/lib/python3.7/site-packages (from matplotlib>=1.4->pandas.profiling) (2.4.2)\n",
      "Requirement already satisfied: pyyaml in /home/alejandra/anaconda3/lib/python3.7/site-packages (from confuse>=1.0.0->pandas.profiling) (5.1.2)\n",
      "Requirement already satisfied: MarkupSafe>=0.23 in /home/alejandra/anaconda3/lib/python3.7/site-packages (from jinja2>=2.8->pandas.profiling) (1.1.1)\n",
      "Requirement already satisfied: scipy in /home/alejandra/anaconda3/lib/python3.7/site-packages (from missingno>=0.4.2->pandas.profiling) (1.3.1)\n",
      "Requirement already satisfied: seaborn in /home/alejandra/anaconda3/lib/python3.7/site-packages (from missingno>=0.4.2->pandas.profiling) (0.9.0)\n",
      "Requirement already satisfied: numba>=0.38.1 in /home/alejandra/anaconda3/lib/python3.7/site-packages (from phik>=0.9.8->pandas.profiling) (0.45.1)\n",
      "Requirement already satisfied: jupyter-client>=5.2.3 in /home/alejandra/anaconda3/lib/python3.7/site-packages (from phik>=0.9.8->pandas.profiling) (5.3.3)\n",
      "Collecting pytest-pylint>=0.13.0\n",
      "  Downloading pytest_pylint-0.14.1-py3-none-any.whl (6.0 kB)\n",
      "Requirement already satisfied: nbconvert>=5.3.1 in /home/alejandra/anaconda3/lib/python3.7/site-packages (from phik>=0.9.8->pandas.profiling) (5.6.0)\n",
      "Requirement already satisfied: pytest>=4.0.2 in /home/alejandra/anaconda3/lib/python3.7/site-packages (from phik>=0.9.8->pandas.profiling) (5.2.1)\n",
      "Requirement already satisfied: six>=1.5 in /home/alejandra/anaconda3/lib/python3.7/site-packages (from python-dateutil>=2.6.1->pandas>=0.19->pandas.profiling) (1.12.0)\n",
      "Requirement already satisfied: setuptools in /home/alejandra/anaconda3/lib/python3.7/site-packages (from kiwisolver>=1.0.1->matplotlib>=1.4->pandas.profiling) (41.4.0)\n",
      "Requirement already satisfied: llvmlite>=0.29.0dev0 in /home/alejandra/anaconda3/lib/python3.7/site-packages (from numba>=0.38.1->phik>=0.9.8->pandas.profiling) (0.29.0)\n",
      "Requirement already satisfied: tornado>=4.1 in /home/alejandra/anaconda3/lib/python3.7/site-packages (from jupyter-client>=5.2.3->phik>=0.9.8->pandas.profiling) (6.0.3)\n",
      "Requirement already satisfied: traitlets in /home/alejandra/anaconda3/lib/python3.7/site-packages (from jupyter-client>=5.2.3->phik>=0.9.8->pandas.profiling) (4.3.3)\n",
      "Requirement already satisfied: jupyter-core in /home/alejandra/anaconda3/lib/python3.7/site-packages (from jupyter-client>=5.2.3->phik>=0.9.8->pandas.profiling) (4.5.0)\n",
      "Requirement already satisfied: pyzmq>=13 in /home/alejandra/anaconda3/lib/python3.7/site-packages (from jupyter-client>=5.2.3->phik>=0.9.8->pandas.profiling) (18.1.0)\n",
      "Requirement already satisfied: pylint>=1.4.5 in /home/alejandra/anaconda3/lib/python3.7/site-packages (from pytest-pylint>=0.13.0->phik>=0.9.8->pandas.profiling) (2.4.2)\n",
      "Requirement already satisfied: bleach in /home/alejandra/anaconda3/lib/python3.7/site-packages (from nbconvert>=5.3.1->phik>=0.9.8->pandas.profiling) (3.1.0)\n",
      "Requirement already satisfied: testpath in /home/alejandra/anaconda3/lib/python3.7/site-packages (from nbconvert>=5.3.1->phik>=0.9.8->pandas.profiling) (0.4.2)\n",
      "Requirement already satisfied: pygments in /home/alejandra/anaconda3/lib/python3.7/site-packages (from nbconvert>=5.3.1->phik>=0.9.8->pandas.profiling) (2.4.2)\n",
      "Requirement already satisfied: pandocfilters>=1.4.1 in /home/alejandra/anaconda3/lib/python3.7/site-packages (from nbconvert>=5.3.1->phik>=0.9.8->pandas.profiling) (1.4.2)\n",
      "Requirement already satisfied: entrypoints>=0.2.2 in /home/alejandra/anaconda3/lib/python3.7/site-packages (from nbconvert>=5.3.1->phik>=0.9.8->pandas.profiling) (0.3)\n",
      "Requirement already satisfied: nbformat>=4.4 in /home/alejandra/anaconda3/lib/python3.7/site-packages (from nbconvert>=5.3.1->phik>=0.9.8->pandas.profiling) (4.4.0)\n",
      "Requirement already satisfied: defusedxml in /home/alejandra/anaconda3/lib/python3.7/site-packages (from nbconvert>=5.3.1->phik>=0.9.8->pandas.profiling) (0.6.0)\n",
      "Requirement already satisfied: mistune<2,>=0.8.1 in /home/alejandra/anaconda3/lib/python3.7/site-packages (from nbconvert>=5.3.1->phik>=0.9.8->pandas.profiling) (0.8.4)\n",
      "Requirement already satisfied: py>=1.5.0 in /home/alejandra/anaconda3/lib/python3.7/site-packages (from pytest>=4.0.2->phik>=0.9.8->pandas.profiling) (1.8.0)\n",
      "Requirement already satisfied: packaging in /home/alejandra/anaconda3/lib/python3.7/site-packages (from pytest>=4.0.2->phik>=0.9.8->pandas.profiling) (19.2)\n",
      "Requirement already satisfied: attrs>=17.4.0 in /home/alejandra/anaconda3/lib/python3.7/site-packages (from pytest>=4.0.2->phik>=0.9.8->pandas.profiling) (19.2.0)\n",
      "Requirement already satisfied: more-itertools>=4.0.0 in /home/alejandra/anaconda3/lib/python3.7/site-packages (from pytest>=4.0.2->phik>=0.9.8->pandas.profiling) (7.2.0)\n",
      "Requirement already satisfied: atomicwrites>=1.0 in /home/alejandra/anaconda3/lib/python3.7/site-packages (from pytest>=4.0.2->phik>=0.9.8->pandas.profiling) (1.3.0)\n",
      "Requirement already satisfied: pluggy<1.0,>=0.12 in /home/alejandra/anaconda3/lib/python3.7/site-packages (from pytest>=4.0.2->phik>=0.9.8->pandas.profiling) (0.13.0)\n",
      "Requirement already satisfied: wcwidth in /home/alejandra/anaconda3/lib/python3.7/site-packages (from pytest>=4.0.2->phik>=0.9.8->pandas.profiling) (0.1.7)\n",
      "Requirement already satisfied: importlib-metadata>=0.12 in /home/alejandra/anaconda3/lib/python3.7/site-packages (from pytest>=4.0.2->phik>=0.9.8->pandas.profiling) (0.23)\n",
      "Requirement already satisfied: ipython-genutils in /home/alejandra/anaconda3/lib/python3.7/site-packages (from traitlets->jupyter-client>=5.2.3->phik>=0.9.8->pandas.profiling) (0.2.0)\n",
      "Requirement already satisfied: decorator in /home/alejandra/anaconda3/lib/python3.7/site-packages (from traitlets->jupyter-client>=5.2.3->phik>=0.9.8->pandas.profiling) (4.4.0)\n",
      "Requirement already satisfied: astroid<2.4,>=2.3.0 in /home/alejandra/anaconda3/lib/python3.7/site-packages (from pylint>=1.4.5->pytest-pylint>=0.13.0->phik>=0.9.8->pandas.profiling) (2.3.1)\n",
      "Requirement already satisfied: isort<5,>=4.2.5 in /home/alejandra/anaconda3/lib/python3.7/site-packages (from pylint>=1.4.5->pytest-pylint>=0.13.0->phik>=0.9.8->pandas.profiling) (4.3.21)\n",
      "Requirement already satisfied: mccabe<0.7,>=0.6 in /home/alejandra/anaconda3/lib/python3.7/site-packages (from pylint>=1.4.5->pytest-pylint>=0.13.0->phik>=0.9.8->pandas.profiling) (0.6.1)\n",
      "Requirement already satisfied: webencodings in /home/alejandra/anaconda3/lib/python3.7/site-packages (from bleach->nbconvert>=5.3.1->phik>=0.9.8->pandas.profiling) (0.5.1)\n",
      "Requirement already satisfied: jsonschema!=2.5.0,>=2.4 in /home/alejandra/anaconda3/lib/python3.7/site-packages (from nbformat>=4.4->nbconvert>=5.3.1->phik>=0.9.8->pandas.profiling) (3.0.2)\n",
      "Requirement already satisfied: zipp>=0.5 in /home/alejandra/anaconda3/lib/python3.7/site-packages (from importlib-metadata>=0.12->pytest>=4.0.2->phik>=0.9.8->pandas.profiling) (0.6.0)\n",
      "Collecting typed-ast<1.5,>=1.4.0; implementation_name == \"cpython\" and python_version < \"3.8\"\n",
      "  Downloading typed_ast-1.4.1-cp37-cp37m-manylinux1_x86_64.whl (737 kB)\n",
      "\u001b[K     |████████████████████████████████| 737 kB 2.8 MB/s eta 0:00:01\n",
      "\u001b[?25hRequirement already satisfied: lazy-object-proxy==1.4.* in /home/alejandra/anaconda3/lib/python3.7/site-packages (from astroid<2.4,>=2.3.0->pylint>=1.4.5->pytest-pylint>=0.13.0->phik>=0.9.8->pandas.profiling) (1.4.2)\n",
      "Requirement already satisfied: wrapt==1.11.* in /home/alejandra/anaconda3/lib/python3.7/site-packages (from astroid<2.4,>=2.3.0->pylint>=1.4.5->pytest-pylint>=0.13.0->phik>=0.9.8->pandas.profiling) (1.11.2)\n",
      "Requirement already satisfied: pyrsistent>=0.14.0 in /home/alejandra/anaconda3/lib/python3.7/site-packages (from jsonschema!=2.5.0,>=2.4->nbformat>=4.4->nbconvert>=5.3.1->phik>=0.9.8->pandas.profiling) (0.15.4)\n",
      "Building wheels for collected packages: pandas.profiling, confuse, htmlmin\n",
      "  Building wheel for pandas.profiling (setup.py) ... \u001b[?25ldone\n",
      "\u001b[?25h  Created wheel for pandas.profiling: filename=pandas_profiling-2.4.0-py2.py3-none-any.whl size=195587 sha256=c78e09b948ac85ac58b510d2fcf2d3662a99ef09b023cd56e6909269123960b5\n",
      "  Stored in directory: /home/alejandra/.cache/pip/wheels/fa/35/77/2a1b09b23efc99e9165bd105493a1dc56e0c6ac0712ee4a541\n",
      "  Building wheel for confuse (setup.py) ... \u001b[?25ldone\n",
      "\u001b[?25h  Created wheel for confuse: filename=confuse-1.0.0-py3-none-any.whl size=17487 sha256=b3ca2c6cb6b942ad7ed4e8768547753a628f504c9a83397a1203bdcd14784b4d\n",
      "  Stored in directory: /home/alejandra/.cache/pip/wheels/91/12/f3/c3b142bda8c6aaa03c14323c7c6bbe7e9eea58101ca1f56260\n",
      "  Building wheel for htmlmin (setup.py) ... \u001b[?25ldone\n",
      "\u001b[?25h  Created wheel for htmlmin: filename=htmlmin-0.1.12-py3-none-any.whl size=27085 sha256=e4db21489a52f4a64951af071f2dfe6111a53ed02af8bf8bb3eb45fb8a6712d6\n",
      "  Stored in directory: /home/alejandra/.cache/pip/wheels/70/e1/52/5b14d250ba868768823940c3229e9950d201a26d0bd3ee8655\n",
      "Successfully built pandas.profiling confuse htmlmin\n",
      "Installing collected packages: confuse, htmlmin, missingno, pytest-pylint, phik, pandas.profiling, typed-ast\n",
      "Successfully installed confuse-1.0.0 htmlmin-0.1.12 missingno-0.4.2 pandas.profiling phik-0.9.8 pytest-pylint-0.14.1 typed-ast-1.4.1\n",
      "Note: you may need to restart the kernel to use updated packages.\n"
     ]
    }
   ],
   "source": [
    "pip install pandas.profiling"
   ]
  },
  {
   "cell_type": "code",
   "execution_count": 1,
   "metadata": {},
   "outputs": [],
   "source": [
    "import pandas as pd\n",
    "from pandas_profiling import ProfileReport"
   ]
  },
  {
   "cell_type": "code",
   "execution_count": 2,
   "metadata": {},
   "outputs": [],
   "source": [
    "df = pd.read_csv(\"neos.csv\")"
   ]
  },
  {
   "cell_type": "code",
   "execution_count": 3,
   "metadata": {},
   "outputs": [
    {
     "name": "stderr",
     "output_type": "stream",
     "text": [
      "/home/alejandra/anaconda3/lib/python3.7/site-packages/pandas_profiling/model/correlations.py:35: RuntimeWarning: invalid value encountered in double_scalars\n",
      "  return np.sqrt(phi2corr / min((kcorr - 1.0), (rcorr - 1.0)))\n"
     ]
    }
   ],
   "source": [
    "profile = ProfileReport(df, title='Pandas Profiling Report', html={'style':{'full_width':True}})"
   ]
  },
  {
   "cell_type": "code",
   "execution_count": 4,
   "metadata": {},
   "outputs": [],
   "source": [
    "profile.to_file(output_file=\"asteroids.html\")"
   ]
  },
  {
   "cell_type": "code",
   "execution_count": null,
   "metadata": {},
   "outputs": [],
   "source": []
  }
 ],
 "metadata": {
  "kernelspec": {
   "display_name": "Python 3",
   "language": "python",
   "name": "python3"
  },
  "language_info": {
   "codemirror_mode": {
    "name": "ipython",
    "version": 3
   },
   "file_extension": ".py",
   "mimetype": "text/x-python",
   "name": "python",
   "nbconvert_exporter": "python",
   "pygments_lexer": "ipython3",
   "version": "3.7.4"
  }
 },
 "nbformat": 4,
 "nbformat_minor": 4
}
