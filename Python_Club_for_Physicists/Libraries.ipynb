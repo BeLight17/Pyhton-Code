{
 "cells": [
  {
   "cell_type": "markdown",
   "metadata": {},
   "source": [
    "**Notebook 1**"
   ]
  },
  {
   "cell_type": "code",
   "execution_count": 1,
   "metadata": {},
   "outputs": [
    {
     "name": "stdout",
     "output_type": "stream",
     "text": [
      "Hola mundo!\n"
     ]
    }
   ],
   "source": [
    "print(\"Hola mundo!\")"
   ]
  },
  {
   "cell_type": "code",
   "execution_count": 2,
   "metadata": {},
   "outputs": [
    {
     "name": "stdin",
     "output_type": "stream",
     "text": [
      "What's your name?:  Alejandra\n"
     ]
    },
    {
     "name": "stdout",
     "output_type": "stream",
     "text": [
      "Hello Alejandra!\n"
     ]
    }
   ],
   "source": [
    "name = input(\"What's your name?: \")\n",
    "greetings = f\"Hello {name}!\" #f string also: \"Hello {0}\".format(name)\n",
    "print(greetings)"
   ]
  },
  {
   "cell_type": "code",
   "execution_count": 3,
   "metadata": {},
   "outputs": [
    {
     "name": "stdin",
     "output_type": "stream",
     "text": [
      "What's your latitude? [deg] 12\n"
     ]
    },
    {
     "name": "stdout",
     "output_type": "stream",
     "text": [
      "La gravedad a 12deg es de 10.04024184062696m/s²\n"
     ]
    }
   ],
   "source": [
    "from math import pi, sin, sqrt\n",
    "\n",
    "def g(phi):\n",
    "    sin2phi = sin(phi)**2\n",
    "    return 9.7803253359*(1+0.001931850400 +sin2phi)/sqrt(1-0.006694384442+sin2phi)\n",
    "\n",
    "latitude_deg = input(\"What's your latitude? [deg]\")\n",
    "latitude_rad = float(latitude_deg)*pi/180 \n",
    "gravity = f\"La gravedad a {latitude_deg}deg es de {g(latitude_rad)}m/s²\"\n",
    "print(gravity)"
   ]
  },
  {
   "cell_type": "code",
   "execution_count": 4,
   "metadata": {},
   "outputs": [
    {
     "name": "stdout",
     "output_type": "stream",
     "text": [
      "Requirement already satisfied: numpy in /home/alejandra/.local/lib/python3.7/site-packages (1.18.1)\n",
      "Note: you may need to restart the kernel to use updated packages.\n"
     ]
    }
   ],
   "source": [
    "pip install numpy"
   ]
  },
  {
   "cell_type": "code",
   "execution_count": 5,
   "metadata": {},
   "outputs": [],
   "source": [
    "#import numpy as np\n",
    "from numpy import array, zeros, ones, empty"
   ]
  },
  {
   "cell_type": "code",
   "execution_count": 6,
   "metadata": {},
   "outputs": [
    {
     "name": "stdout",
     "output_type": "stream",
     "text": [
      "[[1.5 2.3]\n",
      " [4.  5.6]]\n"
     ]
    }
   ],
   "source": [
    "sample_array_1 = array(\n",
    "        [\n",
    "          (1.5, 2.3),\n",
    "          (4.0, 5.6)\n",
    "        ]\n",
    "    )\n",
    "print(sample_array_1)"
   ]
  },
  {
   "cell_type": "code",
   "execution_count": null,
   "metadata": {},
   "outputs": [],
   "source": []
  }
 ],
 "metadata": {
  "kernelspec": {
   "display_name": "Python 3",
   "language": "python",
   "name": "python3"
  },
  "language_info": {
   "codemirror_mode": {
    "name": "ipython",
    "version": 3
   },
   "file_extension": ".py",
   "mimetype": "text/x-python",
   "name": "python",
   "nbconvert_exporter": "python",
   "pygments_lexer": "ipython3",
   "version": "3.7.4"
  }
 },
 "nbformat": 4,
 "nbformat_minor": 4
}
