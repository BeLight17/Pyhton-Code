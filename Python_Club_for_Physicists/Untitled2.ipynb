{
 "cells": [
  {
   "cell_type": "markdown",
   "metadata": {},
   "source": [
    "# Decaimiento del pión"
   ]
  },
  {
   "cell_type": "markdown",
   "metadata": {},
   "source": [
    "Datos: Energía, Ángulo $\\theta$, Ángulo $\\phi$ en coordenadas esféricas"
   ]
  },
  {
   "cell_type": "code",
   "execution_count": null,
   "metadata": {},
   "outputs": [],
   "source": [
    "import numpy as np\n",
    "import pandas as pd\n",
    "import matplotlib.pyplot as plt\n",
    "import scipy.stats as stats"
   ]
  },
  {
   "cell_type": "code",
   "execution_count": null,
   "metadata": {},
   "outputs": [],
   "source": [
    "from distutils.spawn import find_executable #Encontrar ejecutables en el sistema operativo\n",
    "\n",
    "from matplotlib.font_manager import *\n",
    "from matplotlib.collections import *\n",
    "from matplotlib.patches import *\n",
    "from matplotlib.pylab import *\n",
    "from matplotlib import colors\n",
    "\n",
    "import seaborn\n",
    "\n",
    "rem = 14 #Configurar el tamaño de fuente\n",
    "\n",
    "seaborn.set(context='notebook', style='darkgrid') \n",
    "\n",
    "#Configurar características de los gráficos\n",
    "ioff() \n",
    "\n",
    "rc('lines', linewidth=1)\n",
    "rc('font', family='serif') #tipo de fuente\n",
    "rc('font', size=rem) \n",
    "rc('axes', titlepad=1.500*rem)\n",
    "rc('axes', titlesize=1.728*rem)\n",
    "rc('axes', labelsize=1.200*rem)\n",
    "rc('legend', fontsize=1.000*rem)\n",
    "rc('xtick', labelsize=0.833*rem)\n",
    "rc('ytick', labelsize=0.833*rem)\n",
    "\n",
    "if find_executable('latex'):\n",
    "    rc('text', usetex=True)\n",
    "\n",
    "material_palette = {\n",
    "    -10: \"#fafafa\",\n",
    "    -9: \"#f5f5f5\",\n",
    "    -6: \"#bdbdbd\",\n",
    "    -5: \"#9e9e9e\",\n",
    "    -4: \"#757575\",\n",
    "    -1: \"#212121\",\n",
    "    0: \"#F44336\",\n",
    "    1: \"#E91E63\",\n",
    "    2: \"#9C27B0\",\n",
    "    3: \"#673AB7\",\n",
    "    4: \"#3F51B5\",\n",
    "    5: \"#2196F3\",\n",
    "    6: \"#03A9F4\",\n",
    "    7: \"#00BCD4\",\n",
    "    8: \"#009688\",\n",
    "    9: \"#4CAF50\",\n",
    "    10: \"#8BC34A\",\n",
    "    11: \"#CDDC39\",\n",
    "    12: \"#FFEB3B\",\n",
    "    13: \"#FFC107\",\n",
    "    14: \"#FF9800\",\n",
    "    15: \"#FF5722\",\n",
    "}"
   ]
  },
  {
   "cell_type": "code",
   "execution_count": null,
   "metadata": {},
   "outputs": [],
   "source": [
    "dataset = np.loadtxt(\"data/120GeV-100k.csv\", delimiter = \",\") #Carga el archivo de datos limitados por ','"
   ]
  },
  {
   "cell_type": "code",
   "execution_count": null,
   "metadata": {},
   "outputs": [],
   "source": [
    "E_rndm = dataset[:,0]\n",
    "theta_pi = dataset[:,1]\n",
    "phi_pi = dataset[:,2]\n",
    "n = E_rndm.shape[0] # Número de datos\n",
    "n_bins = 40\n",
    "\n",
    "print(f\"Samples: {n}\")\n",
    "print(f\"No. of bins: {n_bins}\")"
   ]
  },
  {
   "cell_type": "code",
   "execution_count": null,
   "metadata": {},
   "outputs": [],
   "source": [
    "fig = figure(1, figsize=(9.75, 6.50), frameon=False) \n",
    "axs = fig.add_subplot('111', facecolor=material_palette[-9]) #No consume todo el canvas de la figura\n",
    "\n",
    "axs.hist(E_rndm, bins=n_bins, histtype=\"step\", color=material_palette[5], range=[0, 60], label=\"120 GeV\")\n",
    "\n",
    "axs.set_xscale(\"log\")\n",
    "axs.set_xlim(1, 60)\n",
    "axs.set_xlabel(\"Energía (GeV)\")\n",
    "axs.set_xticks([1] + [x for x in range(10, 70, 10)])\n",
    "axs.set_xticklabels([\"$10^0$\"] + [\"${0} \\cdot 10^1$\".format(int(x/10)) if x/10 > 1 else \"$10^1$\" for x in range(10, 70, 10)])\n",
    "\n",
    "axs.set_yscale(\"log\")\n",
    "axs.set_ylim(10 ** 2, 10 ** 5)\n",
    "axs.set_ylabel(\"\\# de partículas\")\n",
    "axs.set_yticks([10 ** x for x in range(2, 6, 1)])\n",
    "axs.set_yticklabels([\"$10^{0}$\".format(x) for x in range(2, 6, 1)])\n",
    "\n",
    "axs.set_title(\"Decaimiento del Pión\")\n",
    "\n",
    "axs.legend(loc=0)\n",
    "axs.grid(linestyle='-', color=material_palette[-6])\n",
    "fig.tight_layout()\n",
    "show()"
   ]
  },
  {
   "cell_type": "markdown",
   "metadata": {},
   "source": [
    "## **Ángulo del pión**"
   ]
  },
  {
   "cell_type": "code",
   "execution_count": null,
   "metadata": {},
   "outputs": [],
   "source": [
    "fig = figure(2, figsize=(9.75 * 1.5, 6.50 * 1.5), frameon=False)\n",
    "axs = fig.add_subplot('111', facecolor=material_palette[-9])\n",
    "\n",
    "axs.hist(theta_pi, bins=n_bins, histtype=\"step\", color=material_palette[5], label=\"120 GeV\")\n",
    "\n",
    "axs.set_xlim(0, np.pi)\n",
    "axs.set_xlabel(r\"$\\theta$\")\n",
    "axs.set_xticks([0.00, 0.25 * np.pi, 0.50 * np.pi, 0.75 * np.pi, 1.00 * np.pi])\n",
    "axs.set_xticklabels([\"0\", r\"$\\frac{\\pi}{4}$\", r\"$\\frac{\\pi}{2}$\", r\"$\\frac{3 \\pi}{4}$\", r\"$\\pi$\"])\n",
    "\n",
    "axs.set_ylim(0, 12 * 10 ** 4)\n",
    "axs.set_ylabel(\"\\# de partículas\")\n",
    "axs.set_yticks([x * 10 ** 4 for x in range(0, 13, 2)])\n",
    "axs.set_yticklabels([\"0\"] + [\"${0} \\cdot 10^4$\".format(x) for x in range(2, 13, 2)])\n",
    "\n",
    "axs.set_title(r\"Ángulo $\\theta$ del pión\")\n",
    "\n",
    "axs.legend(loc=0)\n",
    "axs.grid(linestyle='-', color=material_palette[-6])\n",
    "fig.tight_layout()\n",
    "show()\n"
   ]
  },
  {
   "cell_type": "code",
   "execution_count": null,
   "metadata": {},
   "outputs": [],
   "source": [
    "fig = figure(3, figsize=(9.75 * 1.5, 6.50 * 1.5), frameon=False)\n",
    "axs = fig.add_subplot('111', facecolor=material_palette[-9])\n",
    "\n",
    "axs.hist(phi_pi, bins=n_bins, histtype=\"step\", color=material_palette[5], label=\"120 GeV\")\n",
    "\n",
    "axs.set_xlim(0, np.pi)\n",
    "axs.set_xlabel(r\"$\\phi$\")\n",
    "axs.set_xticks([-1.00 * np.pi, -0.50 * np.pi, 0.00, 0.50 * np.pi, 1.00 * np.pi])\n",
    "axs.set_xticklabels([r\"$-\\pi$\", r\"$-\\frac{\\pi}{2}$\", \"0\", r\"$\\frac{\\pi}{2}$\", r\"$\\pi$\"])\n",
    "\n",
    "axs.set_ylim(0, 8 * 10 ** 3)\n",
    "axs.set_ylabel(\"\\# de partículas\")\n",
    "axs.set_yticks([x * 10 ** 3 for x in range(0, 9, 2)])\n",
    "axs.set_yticklabels([\"0\"] + [\"${0} \\cdot 10^3$\".format(x) for x in range(2, 9, 2)])\n",
    "\n",
    "axs.set_title(r\"Ángulo $\\phi$ del pión\")\n",
    "\n",
    "axs.legend(loc=0)\n",
    "axs.grid(linestyle='-', color=material_palette[-6])\n",
    "fig.tight_layout()\n",
    "show()\n"
   ]
  },
  {
   "cell_type": "code",
   "execution_count": null,
   "metadata": {},
   "outputs": [],
   "source": [
    "m_pi =0.1396  # GeV, masa del pion\n",
    "m_mu = 0.10566 # GeV, masa del muon\n",
    "\n",
    "tau_0_pi = 2.6 * 10 ** (-8)  # GeV, tiempo de vida media propio pion"
   ]
  },
  {
   "cell_type": "code",
   "execution_count": null,
   "metadata": {},
   "outputs": [],
   "source": [
    "# Equivalente a los tiempos de decaimiento de los piones\n",
    "g = E_rndm / m_pi * tau_0_pi * np.log(1 / (1 - np.random.uniform(size=(1,n))[0]))"
   ]
  },
  {
   "cell_type": "code",
   "execution_count": null,
   "metadata": {},
   "outputs": [],
   "source": []
  },
  {
   "cell_type": "code",
   "execution_count": null,
   "metadata": {},
   "outputs": [],
   "source": []
  },
  {
   "cell_type": "code",
   "execution_count": null,
   "metadata": {},
   "outputs": [],
   "source": []
  },
  {
   "cell_type": "code",
   "execution_count": null,
   "metadata": {},
   "outputs": [],
   "source": []
  },
  {
   "cell_type": "code",
   "execution_count": null,
   "metadata": {},
   "outputs": [],
   "source": []
  }
 ],
 "metadata": {
  "kernelspec": {
   "display_name": "Python 3",
   "language": "python",
   "name": "python3"
  },
  "language_info": {
   "codemirror_mode": {
    "name": "ipython",
    "version": 3
   },
   "file_extension": ".py",
   "mimetype": "text/x-python",
   "name": "python",
   "nbconvert_exporter": "python",
   "pygments_lexer": "ipython3",
   "version": "3.7.4"
  }
 },
 "nbformat": 4,
 "nbformat_minor": 4
}
